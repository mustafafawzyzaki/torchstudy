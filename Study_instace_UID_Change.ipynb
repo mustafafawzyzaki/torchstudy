{
 "cells": [
  {
   "cell_type": "code",
   "execution_count": 4,
   "metadata": {},
   "outputs": [
    {
     "name": "stdout",
     "output_type": "stream",
     "text": [
      "Collecting pydicom\n",
      "  Using cached pydicom-3.0.1-py3-none-any.whl.metadata (9.4 kB)\n",
      "Collecting pynetdicom\n",
      "  Using cached pynetdicom-2.1.1-py3-none-any.whl.metadata (23 kB)\n",
      "Collecting pydicom\n",
      "  Using cached pydicom-2.4.4-py3-none-any.whl.metadata (7.8 kB)\n",
      "Using cached pynetdicom-2.1.1-py3-none-any.whl (1.6 MB)\n",
      "Using cached pydicom-2.4.4-py3-none-any.whl (1.8 MB)\n",
      "Installing collected packages: pydicom, pynetdicom\n",
      "Successfully installed pydicom-2.4.4 pynetdicom-2.1.1\n"
     ]
    }
   ],
   "source": [
    "!pip install pydicom pynetdicom \n"
   ]
  },
  {
   "cell_type": "code",
   "execution_count": 5,
   "metadata": {},
   "outputs": [],
   "source": [
    "import os \n",
    "import sys\n",
    "import pydicom\n",
    "import pynetdicom"
   ]
  },
  {
   "cell_type": "code",
   "execution_count": null,
   "metadata": {},
   "outputs": [],
   "source": []
  }
 ],
 "metadata": {
  "kernelspec": {
   "display_name": "Python 3 (ipykernel)",
   "language": "python",
   "name": "python3"
  },
  "language_info": {
   "codemirror_mode": {
    "name": "ipython",
    "version": 3
   },
   "file_extension": ".py",
   "mimetype": "text/x-python",
   "name": "python",
   "nbconvert_exporter": "python",
   "pygments_lexer": "ipython3",
   "version": "3.12.4"
  }
 },
 "nbformat": 4,
 "nbformat_minor": 2
}

{
 "cells": [
  {
   "cell_type": "code",
   "execution_count": 4,
   "metadata": {},
   "outputs": [
    {
     "name": "stdout",
     "output_type": "stream",
     "text": [
      "Collecting pydicom\n",
      "  Using cached pydicom-3.0.1-py3-none-any.whl.metadata (9.4 kB)\n",
      "Collecting pynetdicom\n",
      "  Using cached pynetdicom-2.1.1-py3-none-any.whl.metadata (23 kB)\n",
      "Collecting pydicom\n",
      "  Using cached pydicom-2.4.4-py3-none-any.whl.metadata (7.8 kB)\n",
      "Using cached pynetdicom-2.1.1-py3-none-any.whl (1.6 MB)\n",
      "Using cached pydicom-2.4.4-py3-none-any.whl (1.8 MB)\n",
      "Installing collected packages: pydicom, pynetdicom\n",
      "Successfully installed pydicom-2.4.4 pynetdicom-2.1.1\n"
     ]
    }
   ],
   "source": [
    "!pip install pydicom pynetdicom \n"
   ]
  },
  {
   "cell_type": "code",
   "execution_count": 5,
   "metadata": {},
   "outputs": [],
   "source": [
    "import os \n",
    "import sys\n",
    "import pydicom\n",
    "import pynetdicom"
   ]
  },
  {
   "cell_type": "code",
   "execution_count": 1,
   "metadata": {},
   "outputs": [
    {
     "ename": "",
     "evalue": "",
     "output_type": "error",
     "traceback": [
      "\u001b[1;31mFailed to connect to the remote Jupyter Server 'http://localhost:8888/'. Verify the server is running and reachable. (Failed to connect to the remote Jupyter Server 'http://localhost:8888/'. Verify the server is running and reachable. (Forbidden).)."
     ]
    }
   ],
   "source": [
    "study_folder = input(\"Enter the path to the study folder: \")\n",
    "\n",
    "for root , dirs, files in os.walk(study_folder):\n",
    "    for file in files:\n",
    "        if file.endswith('.dcm'):\n",
    "            ds = pydicom.dcmread(os.path.join(root, file))\n",
    "            print(ds)"
   ]
  }
 ],
 "metadata": {
  "kernelspec": {
   "display_name": "Python 3 (ipykernel)",
   "language": "python",
   "name": "python3"
  }
 },
 "nbformat": 4,
 "nbformat_minor": 2
}

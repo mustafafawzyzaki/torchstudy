{
 "cells": [
  {
   "cell_type": "code",
   "execution_count": 203,
   "metadata": {},
   "outputs": [
    {
     "name": "stdout",
     "output_type": "stream",
     "text": [
      "tensor([[0.1768, 0.8248, 0.8036],\n",
      "        [0.9434, 0.2197, 0.4177]])\n"
     ]
    }
   ],
   "source": [
    "import torch\n",
    "import torch.nn as nn\n",
    "\n",
    "torch.manual_seed(1)\n",
    "print(torch.rand(2, 3))"
   ]
  },
  {
   "cell_type": "code",
   "execution_count": null,
   "metadata": {},
   "outputs": [],
   "source": [
    "scalar = torch.tensor(5)\n",
    "vector = torch.tensor([1, 2, 3])\n",
    "matrix = torch.tensor([[1, 2], [3, 4]])\n",
    "tensor = torch.tensor([[[1, 2, 3], [3, 4, 3]], [[5, 6, 3], [7, 8, 3]]])\n",
    "random_tensor = torch.rand(224, 224, 3)"
   ]
  },
  {
   "cell_type": "code",
   "execution_count": null,
   "metadata": {},
   "outputs": [],
   "source": [
    "device = 'cuda' if torch.cuda.is_available() else 'cpu'"
   ]
  },
  {
   "cell_type": "code",
   "execution_count": null,
   "metadata": {},
   "outputs": [],
   "source": [
    "arange_tensor = torch.arange(1, 5000, 2)\n",
    "zeros_tensor = torch.zeros(224, 224, 3)\n",
    "ones_tensor = torch.ones(224, 224, 3)\n",
    "zeros_like_random = torch.zeros_like(random_tensor)\n",
    "ones_like_random = torch.ones_like(random_tensor)"
   ]
  },
  {
   "cell_type": "code",
   "execution_count": null,
   "metadata": {},
   "outputs": [],
   "source": [
    "rand_change_dim = random_tensor.permute(2, 0, 1)\n",
    "reshape_random = random_tensor.reshape(1, 3, 224, 224)\n",
    "squeeze_tensor = rand_change_dim.squeeze()"
   ]
  }
 ],
 "metadata": {
  "kernelspec": {
   "display_name": ".venv",
   "language": "python",
   "name": "python3"
  },
  "language_info": {
   "codemirror_mode": {
    "name": "ipython",
    "version": 3
   },
   "file_extension": ".py",
   "mimetype": "text/x-python",
   "name": "python",
   "nbconvert_exporter": "python",
   "pygments_lexer": "ipython3",
   "version": "3.12.8"
  }
 },
 "nbformat": 4,
 "nbformat_minor": 2
}

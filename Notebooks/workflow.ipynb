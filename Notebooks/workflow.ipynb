{
 "cells": [
  {
   "cell_type": "markdown",
   "metadata": {},
   "source": [
    "prepare the Dataset and visualize it "
   ]
  },
  {
   "cell_type": "code",
   "execution_count": 3,
   "metadata": {},
   "outputs": [],
   "source": [
    "import torch \n",
    "from torch import nn\n",
    "import matplotlib.pyplot as plt \n",
    "import random\n",
    "import pandas as pd \n",
    "import numpy as np  \n"
   ]
  },
  {
   "cell_type": "code",
   "execution_count": 4,
   "metadata": {},
   "outputs": [],
   "source": [
    "torch.__version__\n",
    "device = 'cuda' if torch.cuda.is_available() else 'cpu'"
   ]
  },
  {
   "cell_type": "code",
   "execution_count": 158,
   "metadata": {},
   "outputs": [
    {
     "name": "stdout",
     "output_type": "stream",
     "text": [
      "2 4\n"
     ]
    },
    {
     "data": {
      "text/plain": [
       "(torch.Size([2000000]), torch.Size([2000000]))"
      ]
     },
     "execution_count": 158,
     "metadata": {},
     "output_type": "execute_result"
    }
   ],
   "source": [
    "weight = 2\n",
    "bias = 4\n",
    "print (weight, bias)\n",
    "\n",
    "X = torch.arange(-2,2,0.000002 , dtype=torch.float32 , device=device) \n",
    "Y = weight * X + bias \n",
    "\n",
    "X.shape , Y.shape\n"
   ]
  },
  {
   "cell_type": "code",
   "execution_count": 159,
   "metadata": {},
   "outputs": [
    {
     "name": "stdout",
     "output_type": "stream",
     "text": [
      "1600000\n"
     ]
    },
    {
     "data": {
      "text/plain": [
       "(torch.Size([1600000]),\n",
       " torch.Size([400000]),\n",
       " torch.Size([1600000]),\n",
       " torch.Size([400000]))"
      ]
     },
     "execution_count": 159,
     "metadata": {},
     "output_type": "execute_result"
    }
   ],
   "source": [
    "training_size = int(len(X)*0.8)                             # 80% of the data is used for training , 20% for testing\n",
    "print(training_size)\n",
    "x_train , x_test = X[:training_size] , X[training_size:]\n",
    "y_train , y_test = Y[:training_size] , Y[training_size:]\n",
    "\n",
    "x_train.shape, x_test.shape, y_train.shape, y_test.shape    "
   ]
  },
  {
   "cell_type": "code",
   "execution_count": 160,
   "metadata": {},
   "outputs": [
    {
     "data": {
      "image/png": "[encoded data removed]",
      "text/plain": [
       "<Figure size 640x480 with 1 Axes>"
      ]
     },
     "metadata": {},
     "output_type": "display_data"
    }
   ],
   "source": [
    "plt.scatter(x_train, y_train, c='red' , s=4 , label='Training Data')\n",
    "plt.scatter(x_test, y_test, c='green' , s=4 , label='Testing Data')\n",
    "# plt.bar(x_train, y_train, width=0.0000002, color='red', alpha=0.5)\n",
    "plt.show()"
   ]
  },
  {
   "cell_type": "markdown",
   "metadata": {},
   "source": [
    "Build Model and train it "
   ]
  },
  {
   "cell_type": "code",
   "execution_count": 207,
   "metadata": {},
   "outputs": [],
   "source": [
    "class Linear(nn.Module):\n",
    "    def __init__(self):\n",
    "        super(Linear, self).__init__()\n",
    "        self.weight = nn.Parameter(torch.randn(1, device=device , dtype=torch.float32), requires_grad=True)\n",
    "        self.bias = nn.Parameter(torch.randn(1, device=device , dtype=torch.float32) , requires_grad=True)\n",
    "    \n",
    "    def forward(self, x: torch.Tensor) -> torch.Tensor:     \n",
    "        return self.weight * x + self.bias\n",
    "        \n"
   ]
  },
  {
   "cell_type": "code",
   "execution_count": 208,
   "metadata": {},
   "outputs": [
    {
     "data": {
      "text/plain": [
       "OrderedDict([('weight', tensor([0.3367])), ('bias', tensor([0.1288]))])"
      ]
     },
     "execution_count": 208,
     "metadata": {},
     "output_type": "execute_result"
    }
   ],
   "source": [
    "torch.manual_seed(42)\n",
    "model = Linear().to(device)\n",
    "model.state_dict()\n"
   ]
  },
  {
   "cell_type": "code",
   "execution_count": 209,
   "metadata": {},
   "outputs": [
    {
     "data": {
      "text/plain": [
       "torch.Size([1600000])"
      ]
     },
     "execution_count": 209,
     "metadata": {},
     "output_type": "execute_result"
    }
   ],
   "source": [
    "with torch.inference_mode():\n",
    "    y_pred = model(x_train)\n",
    "\n",
    "y_pred.shape"
   ]
  },
  {
   "cell_type": "code",
   "execution_count": 217,
   "metadata": {},
   "outputs": [
    {
     "data": {
      "text/plain": [
       "[<matplotlib.lines.Line2D at 0x280a3892ff0>]"
      ]
     },
     "execution_count": 217,
     "metadata": {},
     "output_type": "execute_result"
    },
    {
     "data": {
      "image/png": "[encoded data removed]",
      "text/plain": [
       "<Figure size 640x480 with 1 Axes>"
      ]
     },
     "metadata": {},
     "output_type": "display_data"
    }
   ],
   "source": [
    "x_train_numpy = x_train.cpu().numpy()\n",
    "y_train_numpy = y_train.cpu().numpy()\n",
    "y_pred_numpy = y_pred.cpu().detach().numpy()\n",
    "x_test_numpy = x_test.cpu().numpy()\n",
    "y_test_numpy = y_test.cpu().numpy() \n",
    "\n",
    "plt.scatter(x_test_numpy, y_test_numpy, c='green', s=4, label='Testing Data')\n",
    "plt.scatter(x_train_numpy, y_train_numpy, c='red', s=4, label='Training Data')\n",
    "plt.plot(x_train_numpy, y_pred_numpy, c='blue', label='Model Prediction')"
   ]
  },
  {
   "cell_type": "code",
   "execution_count": 211,
   "metadata": {},
   "outputs": [],
   "source": [
    "loss_fn = nn.MSELoss()"
   ]
  },
  {
   "cell_type": "code",
   "execution_count": 212,
   "metadata": {},
   "outputs": [],
   "source": [
    "optimizer = torch.optim.SGD(model.parameters(), lr=0.001)"
   ]
  },
  {
   "cell_type": "code",
   "execution_count": 234,
   "metadata": {},
   "outputs": [
    {
     "name": "stdout",
     "output_type": "stream",
     "text": [
      "Epoch 0 , Loss 0.00013554291217587888\n",
      "Epoch 10 , Loss 0.0001322911266470328\n",
      "Epoch 20 , Loss 0.00012912211241200566\n",
      "Epoch 30 , Loss 0.0001260209537576884\n",
      "Epoch 40 , Loss 0.0001229983172379434\n",
      "Epoch 50 , Loss 0.00012005121243419126\n",
      "Epoch 60 , Loss 0.00011716674634953961\n",
      "Epoch 70 , Loss 0.00011436099885031581\n",
      "Epoch 80 , Loss 0.00011161696602357551\n",
      "Epoch 90 , Loss 0.0001089377619791776\n",
      "Epoch 100 , Loss 0.0001063263407559134\n",
      "Epoch 110 , Loss 0.00010377060243627056\n",
      "Epoch 120 , Loss 0.00010128700523637235\n",
      "Epoch 130 , Loss 9.88529936876148e-05\n",
      "Epoch 140 , Loss 9.648344712331891e-05\n",
      "Epoch 150 , Loss 9.416941611561924e-05\n",
      "Epoch 160 , Loss 9.190989658236504e-05\n",
      "Epoch 170 , Loss 8.970640919869766e-05\n",
      "Epoch 180 , Loss 8.755175804253668e-05\n",
      "Epoch 190 , Loss 8.545611490262672e-05\n",
      "Epoch 200 , Loss 8.340257772943005e-05\n",
      "Epoch 210 , Loss 8.140487625496462e-05\n",
      "Epoch 220 , Loss 7.944771641632542e-05\n",
      "Epoch 230 , Loss 7.754681428195909e-05\n",
      "Epoch 240 , Loss 7.568257569801062e-05\n",
      "Epoch 250 , Loss 7.387267396552488e-05\n",
      "Epoch 260 , Loss 7.20968673704192e-05\n",
      "Epoch 270 , Loss 7.037136674625799e-05\n",
      "Epoch 280 , Loss 6.868087803013623e-05\n",
      "Epoch 290 , Loss 6.703569670207798e-05\n",
      "Epoch 300 , Loss 6.54263494652696e-05\n",
      "Epoch 310 , Loss 6.385651795426384e-05\n",
      "Epoch 320 , Loss 6.232544546946883e-05\n",
      "Epoch 330 , Loss 6.0827263951068744e-05\n",
      "Epoch 340 , Loss 5.9371628594817594e-05\n",
      "Epoch 350 , Loss 5.794253956992179e-05\n",
      "Epoch 360 , Loss 5.6558597862022e-05\n",
      "Epoch 370 , Loss 5.519913247553632e-05\n",
      "Epoch 380 , Loss 5.387744749896228e-05\n",
      "Epoch 390 , Loss 5.258414239506237e-05\n",
      "Epoch 400 , Loss 5.132157457410358e-05\n",
      "Epoch 410 , Loss 5.0094844482373446e-05\n",
      "Epoch 420 , Loss 4.888930925517343e-05\n",
      "Epoch 430 , Loss 4.771939347847365e-05\n",
      "Epoch 440 , Loss 4.6574372390750796e-05\n",
      "Epoch 450 , Loss 4.5454715291270986e-05\n",
      "Epoch 460 , Loss 4.436886956682429e-05\n",
      "Epoch 470 , Loss 4.3302141421008855e-05\n",
      "Epoch 480 , Loss 4.226292730891146e-05\n",
      "Epoch 490 , Loss 4.125235500396229e-05\n",
      "Epoch 500 , Loss 4.0258975786855444e-05\n",
      "Epoch 510 , Loss 3.929588638129644e-05\n",
      "Epoch 520 , Loss 3.8354977732524276e-05\n",
      "Epoch 530 , Loss 3.743025808944367e-05\n",
      "Epoch 540 , Loss 3.6535944673232734e-05\n",
      "Epoch 550 , Loss 3.5660250432556495e-05\n",
      "Epoch 560 , Loss 3.4800545108737424e-05\n",
      "Epoch 570 , Loss 3.396980173420161e-05\n",
      "Epoch 580 , Loss 3.31558367179241e-05\n",
      "Epoch 590 , Loss 3.2356194424210116e-05\n",
      "Epoch 600 , Loss 3.158410981995985e-05\n",
      "Epoch 610 , Loss 3.0828581657260656e-05\n",
      "Epoch 620 , Loss 3.008505518664606e-05\n",
      "Epoch 630 , Loss 2.936631608463358e-05\n",
      "Epoch 640 , Loss 2.8663982448051684e-05\n",
      "Epoch 650 , Loss 2.7972217139904387e-05\n",
      "Epoch 660 , Loss 2.7302616217639297e-05\n",
      "Epoch 670 , Loss 2.664998100954108e-05\n",
      "Epoch 680 , Loss 2.6009884095401503e-05\n",
      "Epoch 690 , Loss 2.538284388720058e-05\n",
      "Epoch 700 , Loss 2.4777904400252737e-05\n",
      "Epoch 710 , Loss 2.4185383153962903e-05\n",
      "Epoch 720 , Loss 2.3601298380526714e-05\n",
      "Epoch 730 , Loss 2.3036327547742985e-05\n",
      "Epoch 740 , Loss 2.2485715817310847e-05\n",
      "Epoch 750 , Loss 2.1947253117104992e-05\n",
      "Epoch 760 , Loss 2.1416521121864207e-05\n",
      "Epoch 770 , Loss 2.0905521523673087e-05\n",
      "Epoch 780 , Loss 2.0405454051797278e-05\n",
      "Epoch 790 , Loss 1.9916091332561336e-05\n",
      "Epoch 800 , Loss 1.9433813577052206e-05\n",
      "Epoch 810 , Loss 1.8971210010931827e-05\n",
      "Epoch 820 , Loss 1.851701563282404e-05\n",
      "Epoch 830 , Loss 1.8073305909638293e-05\n",
      "Epoch 840 , Loss 1.7634976757108234e-05\n",
      "Epoch 850 , Loss 1.7215119441971183e-05\n",
      "Epoch 860 , Loss 1.6803580365376547e-05\n",
      "Epoch 870 , Loss 1.640176196815446e-05\n",
      "Epoch 880 , Loss 1.600532777956687e-05\n",
      "Epoch 890 , Loss 1.562101715535391e-05\n",
      "Epoch 900 , Loss 1.5249608622980304e-05\n",
      "Epoch 910 , Loss 1.4884183656249661e-05\n",
      "Epoch 920 , Loss 1.4526655832014512e-05\n",
      "Epoch 930 , Loss 1.4173479030432645e-05\n",
      "Epoch 940 , Loss 1.3837368896929547e-05\n",
      "Epoch 950 , Loss 1.3507237781595904e-05\n",
      "Epoch 960 , Loss 1.3183931514504366e-05\n",
      "Epoch 970 , Loss 1.2866404176747892e-05\n",
      "Epoch 980 , Loss 1.2553210581245366e-05\n",
      "Epoch 990 , Loss 1.2256318768777419e-05\n"
     ]
    }
   ],
   "source": [
    "epochs = 1000\n",
    "losses = []\n",
    "train = []\n",
    "epochs_count= []\n",
    "\n",
    "y_pred = model(x_train)\n",
    "\n",
    "for epoch in range(epochs):\n",
    "    #training mode \n",
    "    model.train()\n",
    "    # forward pass\n",
    "    y_pred = model(x_train)\n",
    "    # loss calculation\n",
    "    loss = loss_fn(y_pred , y_train)\n",
    "    # reset the gradients\n",
    "    optimizer.zero_grad()\n",
    "    # backward pass\n",
    "    loss.backward()\n",
    "    # update the weights\n",
    "    optimizer.step()\n",
    "\n",
    "    \n",
    "    # testing\n",
    "    # evaluation mode\n",
    "    model.eval()\n",
    "    with torch.inference_mode():\n",
    "        y_pred_test = model(x_test)\n",
    "        loss_test = loss_fn(y_pred_test, y_test)\n",
    "        \n",
    "    if epoch % 10 == 0:\n",
    "        losses.append(loss_test.cpu().detach().numpy())\n",
    "        train.append(loss.cpu().detach().numpy())\n",
    "        epochs_count.append(epoch)\n",
    "        \n",
    "        print(f'Epoch {epoch} , Loss {loss}')\n",
    "        \n",
    "   \n"
   ]
  },
  {
   "cell_type": "code",
   "execution_count": 235,
   "metadata": {},
   "outputs": [
    {
     "data": {
      "image/png": "[encoded data removed]",
      "text/plain": [
       "<Figure size 640x480 with 1 Axes>"
      ]
     },
     "metadata": {},
     "output_type": "display_data"
    }
   ],
   "source": [
    "\n",
    "plt.figure()\n",
    "plt.scatter(epochs_count,  train , c='red', label='Training Loss')\n",
    "plt.scatter(epochs_count, losses, c='blue', label='Testing Loss')\n",
    "plt.show()\n"
   ]
  },
  {
   "cell_type": "code",
   "execution_count": 236,
   "metadata": {},
   "outputs": [
    {
     "name": "stdout",
     "output_type": "stream",
     "text": [
      "tensor([1, 2, 3, 4, 5, 6, 7, 8, 9]) [ 5.9937196  7.9906063  9.987493  11.98438   13.981266  15.978152\n",
      " 17.97504   19.971926  21.968813 ]\n"
     ]
    },
    {
     "name": "stderr",
     "output_type": "stream",
     "text": [
      "C:\\Users\\Paxerahealth\\AppData\\Local\\Temp\\ipykernel_22828\\1203751077.py:2: UserWarning: To copy construct from a tensor, it is recommended to use sourceTensor.clone().detach() or sourceTensor.clone().detach().requires_grad_(True), rather than torch.tensor(sourceTensor).\n",
      "  tensor_ds = torch.tensor(ds)\n"
     ]
    }
   ],
   "source": [
    "ds = torch.arange(1,10, 1)\n",
    "tensor_ds = torch.tensor(ds)\n",
    "\n",
    "predict = model(tensor_ds).cpu().detach().numpy()\n",
    "print (ds , predict)"
   ]
  },
  {
   "cell_type": "code",
   "execution_count": 237,
   "metadata": {},
   "outputs": [
    {
     "data": {
      "image/png": "[encoded data removed]",
      "text/plain": [
       "<Figure size 640x480 with 1 Axes>"
      ]
     },
     "metadata": {},
     "output_type": "display_data"
    },
    {
     "data": {
      "text/plain": [
       "OrderedDict([('weight', tensor([1.9969])), ('bias', tensor([3.9968]))])"
      ]
     },
     "execution_count": 237,
     "metadata": {},
     "output_type": "execute_result"
    }
   ],
   "source": [
    "plt.figure(1)\n",
    "plt.scatter(ds, predict, c='red', label='Prediction')\n",
    "\n",
    "plt.show()\n",
    "model.state_dict()\n"
   ]
  },
  {
   "cell_type": "code",
   "execution_count": 241,
   "metadata": {},
   "outputs": [
    {
     "name": "stdout",
     "output_type": "stream",
     "text": [
      "57.77777777777778 57.333333333333336 28.55706870180317 28.043616821737608 0.4942569583004395 0.489132851541935 917.4444444444445 884.75\n"
     ]
    },
    {
     "ename": "",
     "evalue": "",
     "output_type": "error",
     "traceback": [
      "\u001b[1;31mThe Kernel crashed while executing code in the current cell or a previous cell. \n",
      "\u001b[1;31mPlease review the code in the cell(s) to identify a possible cause of the failure. \n",
      "\u001b[1;31mClick <a href='https://aka.ms/vscodeJupyterKernelCrash'>here</a> for more info. \n",
      "\u001b[1;31mView Jupyter <a href='command:jupyter.viewOutput'>log</a> for further details."
     ]
    }
   ],
   "source": [
    "a = [12,15,85,66,45,78,96,45,78]\n",
    "b = [90,22,50,45,78,96,45,78,12]\n",
    "\n",
    "mean_a = np.mean(a)\n",
    "mean_b = np.mean(b)\n",
    "\n",
    "sd_a = np.std(a)\n",
    "sd_b = np.std(b)\n",
    "\n",
    "cov_a  = np.cov(a)\n",
    "cov_b = np.cov(b)\n",
    "\n",
    "cv_a = sd_a/mean_a\n",
    "cv_b = sd_b/mean_b\n",
    "\n",
    "\n",
    "print (mean_a, mean_b, sd_a, sd_b, cv_a, cv_b , cov_a, cov_b)"
   ]
  }
 ],
 "metadata": {
  "kernelspec": {
   "display_name": ".venv",
   "language": "python",
   "name": "python3"
  },
  "language_info": {
   "codemirror_mode": {
    "name": "ipython",
    "version": 3
   },
   "file_extension": ".py",
   "mimetype": "text/x-python",
   "name": "python",
   "nbconvert_exporter": "python",
   "pygments_lexer": "ipython3",
   "version": "3.12.8"
  }
 },
 "nbformat": 4,
 "nbformat_minor": 2
}

{
  "nbformat": 4,
  "nbformat_minor": 0,
  "metadata": {
    "colab": {
      "name": "02_pytorch_classification_exercises.ipynb",
      "provenance": [],
      "include_colab_link": true
    },
    "kernelspec": {
      "name": "python3",
      "display_name": "Python 3"
    },
    "language_info": {
      "name": "python"
    }
  },
  "cells": [
    {
      "cell_type": "markdown",
      "metadata": {
        "id": "view-in-github",
        "colab_type": "text"
      },
      "source": [
        "<a href=\"https://colab.research.google.com/github/mustafafawzyzaki/torchstudy/blob/main/extras/exercises/02_pytorch_classification_exercises.ipynb\" target=\"_parent\"><img src=\"https://colab.research.google.com/assets/colab-badge.svg\" alt=\"Open In Colab\"/></a>"
      ]
    },
    {
      "cell_type": "markdown",
      "source": [
        "# 02. PyTorch Classification Exercises\n",
        "\n",
        "The following is a template for 02. PyTorch Classification exercises.\n",
        "\n",
        "It's only starter code and it's your job to fill in the blanks.\n",
        "\n",
        "Because of the flexibility of PyTorch, there may be more than one way to answer the question.\n",
        "\n",
        "Don't worry about trying to be *right* just try writing code that suffices the question.\n",
        "\n",
        "## Resources\n",
        "* These exercises are based on [notebook 02 of the learn PyTorch course](https://www.learnpytorch.io/02_pytorch_classification/).\n",
        "* You can see one form of [solutions on GitHub](https://github.com/mrdbourke/pytorch-deep-learning/tree/main/extras/solutions) (but try the exercises below yourself first!)."
      ],
      "metadata": {
        "id": "ZKJFt7YxH8yl"
      }
    },
    {
      "cell_type": "code",
      "source": [
        "# Import torch\n",
        "import torch\n",
        "\n",
        "# Setup device agnostic code\n",
        "device = 'cuda' if torch.cuda.is_available() else 'cpu'\n",
        "\n",
        "# Setup random seed\n",
        "RANDOM_SEED = 42"
      ],
      "metadata": {
        "id": "CSrUPgapO0tf"
      },
      "execution_count": 1,
      "outputs": []
    },
    {
      "cell_type": "markdown",
      "source": [
        "## 1. Make a binary classification dataset with Scikit-Learn's [`make_moons()`](https://scikit-learn.org/stable/modules/generated/sklearn.datasets.make_moons.html) function.\n",
        "  * For consistency, the dataset should have 1000 samples and a `random_state=42`.\n",
        "  * Turn the data into PyTorch tensors.\n",
        "  * Split the data into training and test sets using `train_test_split` with 80% training and 20% testing."
      ],
      "metadata": {
        "id": "pH7jIZ2SPFee"
      }
    },
    {
      "cell_type": "code",
      "source": [
        "# Create a dataset with Scikit-Learn's make_moons()\n",
        "from sklearn.datasets import make_moons\n",
        "\n",
        "makemoon_ds = make_moons(n_samples=1000, random_state=42)\n"
      ],
      "metadata": {
        "id": "5t4VhPV1PX1X"
      },
      "execution_count": 2,
      "outputs": []
    },
    {
      "cell_type": "code",
      "source": [
        "# Turn data into a DataFrame\n",
        "import pandas as pd\n",
        "\n",
        "df = pd.DataFrame(makemoon_ds[0], columns=[\"X1\", \"X2\"])\n",
        "df[\"y\"] = makemoon_ds[1]\n",
        "print (df)"
      ],
      "metadata": {
        "id": "SUeHZ3-3P9C7",
        "colab": {
          "base_uri": "https://localhost:8080/"
        },
        "outputId": "e7d816f6-8d0e-48c6-970b-e8d8638b1a95"
      },
      "execution_count": 3,
      "outputs": [
        {
          "output_type": "stream",
          "name": "stdout",
          "text": [
            "           X1        X2  y\n",
            "0    0.008727  0.368174  1\n",
            "1    0.921384 -0.496905  1\n",
            "2    0.940226 -0.498212  1\n",
            "3    0.465875 -0.345406  1\n",
            "4   -0.850412  0.526117  0\n",
            "..        ...       ... ..\n",
            "995  0.785463  0.618909  0\n",
            "996 -0.128705  0.991683  0\n",
            "997  1.640910 -0.267616  1\n",
            "998 -0.919916  0.392115  0\n",
            "999  0.800798  0.598934  0\n",
            "\n",
            "[1000 rows x 3 columns]\n"
          ]
        }
      ]
    },
    {
      "cell_type": "code",
      "source": [
        "# Visualize the data on a scatter plot\n",
        "import matplotlib.pyplot as plt\n",
        "\n",
        "plt.scatter(df[\"X1\"], df[\"X2\"] , c=df[\"y\"] , cmap=plt.cm.RdYlBu_r)\n",
        "plt.show()\n"
      ],
      "metadata": {
        "id": "owrkPSFvQPFI",
        "colab": {
          "base_uri": "https://localhost:8080/",
          "height": 430
        },
        "outputId": "8a6660cd-e6f2-443b-89bd-38de4d6fbdcc"
      },
      "execution_count": 4,
      "outputs": [
        {
          "output_type": "display_data",
          "data": {
            "text/plain": [
              "<Figure size 640x480 with 1 Axes>"
            ],
            "image/png": "[encoded data removed]"
          },
          "metadata": {}
        }
      ]
    },
    {
      "cell_type": "code",
      "source": [
        "# Turn data into tensors of dtype float\n",
        "x_data = torch.tensor(df[[\"X1\", \"X2\"]].values, dtype=torch.float).to(device)\n",
        "y_data = torch.tensor(df[\"y\"].values, dtype=torch.float).to(device)\n",
        "\n",
        "# Split the data into train and test sets (80% train, 20% test)\n",
        "from sklearn.model_selection import train_test_split\n",
        "x_train , x_test, y_train , y_test = train_test_split(x_data, y_data, train_size=0.8, random_state=42)\n",
        "x_test , y_test"
      ],
      "metadata": {
        "id": "bDhyHn9fR4dq",
        "colab": {
          "base_uri": "https://localhost:8080/"
        },
        "outputId": "0fc35688-df5a-42c5-8404-b66da6648488"
      },
      "execution_count": 5,
      "outputs": [
        {
          "output_type": "execute_result",
          "data": {
            "text/plain": [
              "(tensor([[ 4.9818e-01, -3.6497e-01],\n",
              "         [ 6.8794e-01,  7.2577e-01],\n",
              "         [ 1.2155e+00, -4.7650e-01],\n",
              "         [ 5.7601e-01,  8.1744e-01],\n",
              "         [ 1.8788e+00,  2.2887e-02],\n",
              "         [ 1.9428e+00,  1.6654e-01],\n",
              "         [ 9.5468e-01,  2.9762e-01],\n",
              "         [ 9.9554e-01,  9.4296e-02],\n",
              "         [ 1.1412e+00, -4.8998e-01],\n",
              "         [ 7.2793e-01,  6.8565e-01],\n",
              "         [ 4.7988e-01,  8.7734e-01],\n",
              "         [ 4.2399e-01, -3.1744e-01],\n",
              "         [ 9.8663e-01,  1.6296e-01],\n",
              "         [ 1.3423e+00, -4.3957e-01],\n",
              "         [-1.4741e-01,  9.8908e-01],\n",
              "         [ 1.9998e+00,  4.8111e-01],\n",
              "         [ 1.4629e-01, -2.0753e-02],\n",
              "         [ 3.8341e-01,  9.2358e-01],\n",
              "         [ 6.3997e-01, -4.3294e-01],\n",
              "         [ 2.3390e-01,  9.7226e-01],\n",
              "         [ 7.0152e-01,  7.1265e-01],\n",
              "         [-9.9665e-01,  8.1754e-02],\n",
              "         [ 7.2349e-01, -4.6101e-01],\n",
              "         [ 2.8859e-01,  9.5745e-01],\n",
              "         [ 9.1743e-01,  3.9790e-01],\n",
              "         [ 9.8101e-01,  1.9393e-01],\n",
              "         [-5.9641e-01,  8.0268e-01],\n",
              "         [-9.6687e-01,  2.5527e-01],\n",
              "         [-1.2246e-01,  9.9247e-01],\n",
              "         [ 1.4909e+00, -3.7122e-01],\n",
              "         [ 5.3112e-02,  1.7844e-01],\n",
              "         [ 8.9901e-01,  4.3793e-01],\n",
              "         [ 5.5000e-01,  8.3517e-01],\n",
              "         [ 1.7408e+00, -1.7178e-01],\n",
              "         [ 4.8539e-01,  8.7430e-01],\n",
              "         [ 2.4257e-01, -1.5291e-01],\n",
              "         [ 4.1886e-01, -3.1380e-01],\n",
              "         [ 1.3600e+00, -4.3294e-01],\n",
              "         [ 1.6505e+00, -2.5949e-01],\n",
              "         [ 1.4294e+00, -4.0310e-01],\n",
              "         [ 7.5998e-01, -4.7077e-01],\n",
              "         [ 1.0912e+00, -4.9584e-01],\n",
              "         [ 1.2723e-01,  1.1859e-02],\n",
              "         [-8.5697e-01,  5.1537e-01],\n",
              "         [ 5.6047e-01,  8.2818e-01],\n",
              "         [ 2.0299e-01, -1.0396e-01],\n",
              "         [-8.9901e-01,  4.3793e-01],\n",
              "         [ 6.9702e-01,  7.1705e-01],\n",
              "         [ 2.5085e-01, -1.6240e-01],\n",
              "         [ 1.9045e+00,  7.3423e-02],\n",
              "         [ 5.9134e-01,  8.0642e-01],\n",
              "         [ 5.5524e-01,  8.3169e-01],\n",
              "         [-9.7718e-01,  2.1243e-01],\n",
              "         [-8.0828e-01,  5.8880e-01],\n",
              "         [ 1.4413e-02,  3.3083e-01],\n",
              "         [-5.7085e-01,  8.2105e-01],\n",
              "         [ 5.7221e-03,  3.9318e-01],\n",
              "         [ 1.3776e+00, -4.2597e-01],\n",
              "         [ 9.0257e-01, -4.9524e-01],\n",
              "         [ 5.9774e-02,  9.9821e-01],\n",
              "         [ 1.9199e+00,  1.0788e-01],\n",
              "         [ 9.8953e-01,  1.4430e-01],\n",
              "         [ 8.4891e-02,  9.9639e-01],\n",
              "         [ 1.4520e+00, -3.9200e-01],\n",
              "         [ 4.5000e-01, -3.3517e-01],\n",
              "         [ 2.8515e-01, -1.9927e-01],\n",
              "         [ 1.9993e+00,  4.6223e-01],\n",
              "         [-9.9998e-01,  6.2957e-03],\n",
              "         [ 7.8155e-01,  6.2384e-01],\n",
              "         [-9.9715e-01,  7.5477e-02],\n",
              "         [ 1.9685e+00,  2.5082e-01],\n",
              "         [ 8.0828e-01,  5.8880e-01],\n",
              "         [ 2.8327e-02,  9.9960e-01],\n",
              "         [ 1.1287e+00, -4.9168e-01],\n",
              "         [ 1.9818e-05,  4.9370e-01],\n",
              "         [ 1.9528e+00,  1.9638e-01],\n",
              "         [ 1.6600e+00, -2.5123e-01],\n",
              "         [ 9.3180e-01,  3.6297e-01],\n",
              "         [ 4.5203e-01,  8.9200e-01],\n",
              "         [ 1.1230e-01,  3.9570e-02],\n",
              "         [ 2.6439e-01,  9.6442e-01],\n",
              "         [ 4.7656e-01, -3.5206e-01],\n",
              "         [ 9.9840e-01,  5.6632e-02],\n",
              "         [ 1.6694e+00, -2.4286e-01],\n",
              "         [ 8.6505e-01, -4.9085e-01],\n",
              "         [ 1.5968e-01, -4.2084e-02],\n",
              "         [-9.1992e-01,  3.9212e-01],\n",
              "         [-4.5763e-01,  8.8914e-01],\n",
              "         [-7.5743e-01,  6.5291e-01],\n",
              "         [-9.9612e-01,  8.8027e-02],\n",
              "         [ 1.2644e+00, -4.6442e-01],\n",
              "         [ 1.7015e+00, -2.1265e-01],\n",
              "         [ 1.6457e+00, -2.6357e-01],\n",
              "         [ 1.8369e+00, -4.7364e-02],\n",
              "         [ 1.3950e+00, -4.1868e-01],\n",
              "         [ 4.1229e-01,  9.1105e-01],\n",
              "         [ 2.1845e-01, -1.2384e-01],\n",
              "         [ 1.0220e+00, -4.9976e-01],\n",
              "         [ 2.5223e-01,  9.6767e-01],\n",
              "         [ 1.7656e+00, -1.4332e-01],\n",
              "         [ 7.1485e-01,  6.9927e-01],\n",
              "         [-1.5364e-01,  9.8813e-01],\n",
              "         [ 1.9172e-01, -8.8803e-02],\n",
              "         [ 7.1459e-03,  3.8067e-01],\n",
              "         [ 1.5364e-01,  9.8813e-01],\n",
              "         [-7.0599e-01,  7.0822e-01],\n",
              "         [ 1.6553e+00, -2.5537e-01],\n",
              "         [ 9.3407e-01,  3.5709e-01],\n",
              "         [-3.9501e-01,  9.1868e-01],\n",
              "         [ 1.9943e+00,  3.9318e-01],\n",
              "         [ 3.1665e-01, -2.3009e-01],\n",
              "         [ 6.3410e-01, -4.3065e-01],\n",
              "         [ 8.5371e-01,  5.2075e-01],\n",
              "         [ 1.9406e+00,  1.6061e-01],\n",
              "         [ 2.0000e+00,  4.9370e-01],\n",
              "         [-6.1146e-01,  7.9127e-01],\n",
              "         [ 1.5657e+00, -3.2463e-01],\n",
              "         [-3.6003e-01,  9.3294e-01],\n",
              "         [ 1.5605e+00, -3.2818e-01],\n",
              "         [-6.5052e-01,  7.5949e-01],\n",
              "         [ 8.4015e-01, -4.8714e-01],\n",
              "         [-6.7411e-01,  7.3863e-01],\n",
              "         [-9.7443e-01,  2.2471e-01],\n",
              "         [ 8.8379e-01, -4.9322e-01],\n",
              "         [ 1.9744e+00,  2.7529e-01],\n",
              "         [-5.8626e-01,  8.1013e-01],\n",
              "         [ 1.2522e+00, -4.6767e-01],\n",
              "         [ 1.3033e-01,  6.3744e-03],\n",
              "         [ 6.4573e-01,  7.6357e-01],\n",
              "         [ 6.1509e-02,  1.5470e-01],\n",
              "         [ 9.5909e-01, -4.9916e-01],\n",
              "         [ 9.5654e-01,  2.9160e-01],\n",
              "         [ 1.6787e+00, -2.3438e-01],\n",
              "         [ 7.8546e-01,  6.1891e-01],\n",
              "         [ 8.3343e-01,  5.5262e-01],\n",
              "         [ 9.8222e-01,  1.8775e-01],\n",
              "         [ 1.7816e+00, -1.2384e-01],\n",
              "         [-4.9089e-01,  8.7122e-01],\n",
              "         [ 9.1162e-02,  9.9584e-01],\n",
              "         [ 1.5628e-01, -3.6783e-02],\n",
              "         [-3.0662e-01,  9.5183e-01],\n",
              "         [ 8.8478e-01,  4.6601e-01],\n",
              "         [ 3.2454e-01,  9.4587e-01],\n",
              "         [ 1.2946e+00, -4.5562e-01],\n",
              "         [-2.8256e-01,  9.5925e-01],\n",
              "         [-7.6963e-01,  6.3849e-01],\n",
              "         [ 3.1542e-02,  2.5082e-01],\n",
              "         [-3.4826e-01,  9.3740e-01],\n",
              "         [ 1.0658e-01,  5.0784e-02],\n",
              "         [ 5.9641e-01,  8.0268e-01],\n",
              "         [ 1.9772e+00,  2.8757e-01],\n",
              "         [ 9.2950e-01,  3.6883e-01],\n",
              "         [ 1.1225e+00, -4.9247e-01],\n",
              "         [-1.4118e-01,  9.8998e-01],\n",
              "         [ 1.9990e+00,  4.5594e-01],\n",
              "         [ 1.8437e-01, -7.8580e-02],\n",
              "         [ 8.7653e-02,  9.0581e-02],\n",
              "         [-2.9461e-01,  9.5562e-01],\n",
              "         [-2.8859e-01,  9.5745e-01],\n",
              "         [ 1.0849e+00, -4.9639e-01],\n",
              "         [ 5.6567e-01,  8.2463e-01],\n",
              "         [ 1.9936e+00,  3.8692e-01],\n",
              "         [ 1.5447e+00, -3.3861e-01],\n",
              "         [ 3.4235e-01,  9.3957e-01],\n",
              "         [ 1.6311e-01, -4.7364e-02],\n",
              "         [-8.8183e-01,  4.7157e-01],\n",
              "         [ 9.9903e-01,  4.4056e-02],\n",
              "         [-3.3049e-01,  9.4381e-01],\n",
              "         [-9.4889e-01,  3.1560e-01],\n",
              "         [ 1.7006e-01, -5.7858e-02],\n",
              "         [ 1.2418e-01,  1.7364e-02],\n",
              "         [ 1.6657e-01, -5.2622e-02],\n",
              "         [ 1.5497e-02,  3.2463e-01],\n",
              "         [-9.7850e-01,  2.0627e-01],\n",
              "         [ 9.6524e-01,  2.6135e-01],\n",
              "         [-9.5279e-01,  3.0362e-01],\n",
              "         [-8.0455e-01,  5.9388e-01],\n",
              "         [ 9.9950e-01,  3.1474e-02],\n",
              "         [ 1.1522e-01,  3.3991e-02],\n",
              "         [-8.2285e-01,  5.6826e-01],\n",
              "         [-8.9623e-01,  4.4358e-01],\n",
              "         [ 1.0031e+00, -5.0000e-01],\n",
              "         [ 8.9623e-01,  4.4358e-01],\n",
              "         [ 1.5018e+00, -3.6497e-01],\n",
              "         [ 8.5882e-01, -4.8998e-01],\n",
              "         [ 2.1550e-01,  9.7650e-01],\n",
              "         [ 6.7874e-01,  7.3438e-01],\n",
              "         [ 9.8450e-01,  1.7537e-01],\n",
              "         [ 3.9353e-01, -2.9511e-01],\n",
              "         [ 1.8758e+00,  1.7364e-02],\n",
              "         [ 4.0911e-02,  9.9916e-01],\n",
              "         [ 1.2765e+00, -4.6101e-01],\n",
              "         [ 1.2116e-01,  2.2887e-02],\n",
              "         [ 8.8183e-01,  4.7157e-01],\n",
              "         [ 1.4688e+00, -3.8331e-01],\n",
              "         [ 9.4889e-01,  3.1560e-01],\n",
              "         [ 8.2773e-01, -4.8505e-01],\n",
              "         [-9.9968e-01,  2.5180e-02],\n",
              "         [ 7.6610e-01, -4.7226e-01],\n",
              "         [ 1.5292e-01, -3.1461e-02]]),\n",
              " tensor([1., 0., 1., 0., 1., 1., 0., 0., 1., 0., 0., 1., 0., 1., 0., 1., 1., 0.,\n",
              "         1., 0., 0., 0., 1., 0., 0., 0., 0., 0., 0., 1., 1., 0., 0., 1., 0., 1.,\n",
              "         1., 1., 1., 1., 1., 1., 1., 0., 0., 1., 0., 0., 1., 1., 0., 0., 0., 0.,\n",
              "         1., 0., 1., 1., 1., 0., 1., 0., 0., 1., 1., 1., 1., 0., 0., 0., 1., 0.,\n",
              "         0., 1., 1., 1., 1., 0., 0., 1., 0., 1., 0., 1., 1., 1., 0., 0., 0., 0.,\n",
              "         1., 1., 1., 1., 1., 0., 1., 1., 0., 1., 0., 0., 1., 1., 0., 0., 1., 0.,\n",
              "         0., 1., 1., 1., 0., 1., 1., 0., 1., 0., 1., 0., 1., 0., 0., 1., 1., 0.,\n",
              "         1., 1., 0., 1., 1., 0., 1., 0., 0., 0., 1., 0., 0., 1., 0., 0., 0., 1.,\n",
              "         0., 0., 1., 0., 1., 0., 1., 0., 1., 0., 1., 1., 1., 0., 0., 1., 0., 1.,\n",
              "         1., 0., 1., 0., 0., 0., 0., 1., 1., 1., 1., 0., 0., 0., 0., 0., 1., 0.,\n",
              "         0., 1., 0., 1., 1., 0., 0., 0., 1., 1., 0., 1., 1., 0., 1., 0., 1., 0.,\n",
              "         1., 1.]))"
            ]
          },
          "metadata": {},
          "execution_count": 5
        }
      ]
    },
    {
      "cell_type": "markdown",
      "source": [
        "## 2. Build a model by subclassing `nn.Module` that incorporates non-linear activation functions and is capable of fitting the data you created in 1.\n",
        "  * Feel free to use any combination of PyTorch layers (linear and non-linear) you want."
      ],
      "metadata": {
        "id": "cMIjxZdzQfPz"
      }
    },
    {
      "cell_type": "code",
      "source": [
        "import torch\n",
        "from torch import nn\n",
        "\n",
        "# Inherit from nn.Module to make a model capable of fitting the mooon data\n",
        "class MoonModelV0(nn.Module):\n",
        "    ## Your code here ##\n",
        "    def __init__(self):\n",
        "      super().__init__()\n",
        "      self.layer1 = nn.Linear(in_features=2, out_features=128)\n",
        "      self.layer2 = nn.Linear(in_features=128, out_features=256)\n",
        "      self.layer3 = nn.Linear(in_features=256, out_features=1)\n",
        "      self.relu = nn.ReLU()\n",
        "      self.sigmoid = nn.Sigmoid()\n",
        "\n",
        "    def forward(self, x):\n",
        "        ## Your code here ##\n",
        "        return self.layer3(self.relu(self.layer2(self.relu(self.layer1(x)))))\n",
        "\n",
        "# Instantiate the model\n",
        "## Your code here ##\n",
        "\n",
        "model_01 = MoonModelV0().to(device)"
      ],
      "metadata": {
        "id": "hwtyvm34Ri6Q"
      },
      "execution_count": 6,
      "outputs": []
    },
    {
      "cell_type": "markdown",
      "source": [
        "## 3. Setup a binary classification compatible loss function and optimizer to use when training the model built in 2."
      ],
      "metadata": {
        "id": "DSj97RwyVeFE"
      }
    },
    {
      "cell_type": "code",
      "source": [
        "# Setup loss function\n",
        "loss_fn = nn.BCELoss()\n",
        "# Setup optimizer to optimize model's parameters\n",
        "optimizer  = torch.optim.Adam(model_01.parameters(), lr=0.01)"
      ],
      "metadata": {
        "id": "whSGw5qgVvxU"
      },
      "execution_count": 12,
      "outputs": []
    },
    {
      "cell_type": "markdown",
      "source": [
        "## 4. Create a training and testing loop to fit the model you created in 2 to the data you created in 1.\n",
        "  * Do a forward pass of the model to see what's coming out in the form of logits, prediction probabilities and labels.\n",
        "  * To measure model accuray, you can create your own accuracy function or use the accuracy function in [TorchMetrics](https://torchmetrics.readthedocs.io/en/latest/).\n",
        "  * Train the model for long enough for it to reach over 96% accuracy.\n",
        "  * The training loop should output progress every 10 epochs of the model's training and test set loss and accuracy."
      ],
      "metadata": {
        "id": "nvk4PfNTWUAt"
      }
    },
    {
      "cell_type": "code",
      "source": [
        "# What's coming out of our model?\n",
        "logit = model_01(x_test).squeeze()\n",
        "\n",
        "# logits (raw outputs of model)\n",
        "print(f\"Logits:{logit}\")\n",
        "## Your code here ##\n",
        "sigmoid_fn = nn.Sigmoid()\n",
        "pred_prob = sigmoid_fn(logit)\n",
        "# Prediction probabilities\n",
        "print(f\"Pred probs:{pred_prob}\")\n",
        "## Your code here ##\n",
        "\n",
        "pred_label = torch.round(pred_prob)\n",
        "# Prediction labels\n",
        "print(f\"Pred labels:{pred_label}\")\n",
        "## Your code here ##"
      ],
      "metadata": {
        "colab": {
          "base_uri": "https://localhost:8080/"
        },
        "id": "AgnFdlamd2-D",
        "outputId": "136ec23e-a0f1-4552-db0f-7b02a06a6738"
      },
      "execution_count": 13,
      "outputs": [
        {
          "output_type": "stream",
          "name": "stdout",
          "text": [
            "Logits:tensor([ 3.4835, -2.4209,  4.3287, -2.8697,  2.6884,  2.0399, -0.1054,  1.1094,\n",
            "         4.3114, -2.2375, -3.1897,  3.2116,  0.6921,  4.3115, -4.0241,  0.5074,\n",
            "         1.4280, -3.4438,  3.8099, -3.7331, -2.3612, -1.2549,  3.9470, -3.6410,\n",
            "        -0.6770,  0.5037, -3.5722, -1.9030, -4.0254,  4.1901,  0.3397, -0.9124,\n",
            "        -2.9632,  3.5177, -3.1735,  2.1789,  3.1895,  4.3034,  3.8543,  4.2566,\n",
            "         3.9965,  4.2895,  1.2510, -2.7291, -2.9256,  1.8865, -2.4998, -2.3812,\n",
            "         2.2384,  2.4612, -2.8148, -2.9445, -1.7517, -2.9458, -0.5293, -3.6240,\n",
            "        -0.8857,  4.2936,  4.1510, -3.9626,  2.3072,  0.8050, -3.9400,  4.2358,\n",
            "         3.3165,  2.4755,  0.6074, -0.9635, -1.9328, -1.2310,  1.6505, -1.7436,\n",
            "        -3.9809,  4.3066, -1.4454,  1.9017,  3.8239, -0.4776, -3.2691,  1.1002,\n",
            "        -3.6820,  3.4125,  1.3384,  3.7927,  4.1157,  1.5436, -2.3560, -3.7989,\n",
            "        -3.1336, -1.2786,  4.3292,  3.6782,  3.8692,  2.9979,  4.2827, -3.3737,\n",
            "         2.0033,  4.2453, -3.7025,  3.4038, -2.3004, -4.0237,  1.7987, -0.8160,\n",
            "        -3.8564, -3.2917,  3.8391, -0.4443, -3.8829,  0.9685,  2.6747,  3.7990,\n",
            "        -1.3732,  2.0672,  0.4419, -3.5401,  4.0609, -3.9180,  4.0705, -3.4481,\n",
            "         4.0903, -3.3869, -1.7969,  4.1337,  1.5375, -3.5931,  4.3299,  1.2809,\n",
            "        -2.6037,  0.4691,  4.1977, -0.0703,  3.7609, -1.9072, -1.5465,  0.5416,\n",
            "         3.3245, -3.7518, -3.9334,  1.5150, -3.9641, -1.0707, -3.5727,  4.3251,\n",
            "        -3.9803, -3.0919, -0.0729, -3.9293,  1.0388, -2.7963,  1.4804, -0.5110,\n",
            "         4.3040, -4.0246,  0.6406,  1.7418,  0.8201, -3.9731, -3.9769,  4.2863,\n",
            "        -2.9068,  1.0008,  4.0991, -3.5358,  1.5721, -2.6010,  1.4150, -3.9449,\n",
            "        -2.1080,  1.6289,  1.2210,  1.6006, -0.4937, -1.7287,  0.1056, -2.0676,\n",
            "        -2.9609,  1.4929,  1.1307, -2.8855, -2.5175,  4.2307, -0.9444,  4.1741,\n",
            "         4.1095, -3.7628, -2.4618,  0.6169,  3.0765,  2.7131, -3.9741,  4.3279,\n",
            "         1.1910, -1.1024,  4.2179, -0.2096,  4.0770, -1.0375,  4.0044,  1.4861],\n",
            "       grad_fn=<SqueezeBackward0>)\n",
            "Pred probs:tensor([0.9702, 0.0816, 0.9870, 0.0537, 0.9363, 0.8849, 0.4737, 0.7520, 0.9868,\n",
            "        0.0964, 0.0396, 0.9613, 0.6664, 0.9868, 0.0176, 0.6242, 0.8066, 0.0310,\n",
            "        0.9783, 0.0234, 0.0862, 0.2219, 0.9811, 0.0256, 0.3369, 0.6233, 0.0273,\n",
            "        0.1298, 0.0175, 0.9851, 0.5841, 0.2865, 0.0491, 0.9712, 0.0402, 0.8983,\n",
            "        0.9604, 0.9867, 0.9793, 0.9860, 0.9820, 0.9865, 0.7775, 0.0613, 0.0509,\n",
            "        0.8684, 0.0759, 0.0846, 0.9036, 0.9214, 0.0565, 0.0500, 0.1478, 0.0499,\n",
            "        0.3707, 0.0260, 0.2920, 0.9865, 0.9845, 0.0187, 0.9095, 0.6910, 0.0191,\n",
            "        0.9857, 0.9650, 0.9224, 0.6474, 0.2762, 0.1264, 0.2260, 0.8390, 0.1489,\n",
            "        0.0183, 0.9867, 0.1907, 0.8701, 0.9786, 0.3828, 0.0366, 0.7503, 0.0246,\n",
            "        0.9681, 0.7922, 0.9780, 0.9839, 0.8240, 0.0866, 0.0219, 0.0417, 0.2178,\n",
            "        0.9870, 0.9754, 0.9796, 0.9525, 0.9864, 0.0331, 0.8811, 0.9859, 0.0241,\n",
            "        0.9678, 0.0911, 0.0176, 0.8580, 0.3066, 0.0207, 0.0359, 0.9789, 0.3907,\n",
            "        0.0202, 0.7248, 0.9355, 0.9781, 0.2021, 0.8877, 0.6087, 0.0282, 0.9831,\n",
            "        0.0195, 0.9832, 0.0308, 0.9835, 0.0327, 0.1422, 0.9842, 0.8231, 0.0268,\n",
            "        0.9870, 0.7826, 0.0689, 0.6152, 0.9852, 0.4824, 0.9773, 0.1293, 0.1756,\n",
            "        0.6322, 0.9653, 0.0229, 0.0192, 0.8198, 0.0186, 0.2553, 0.0273, 0.9869,\n",
            "        0.0183, 0.0434, 0.4818, 0.0193, 0.7386, 0.0575, 0.8146, 0.3750, 0.9867,\n",
            "        0.0176, 0.6549, 0.8509, 0.6943, 0.0185, 0.0184, 0.9864, 0.0518, 0.7312,\n",
            "        0.9837, 0.0283, 0.8281, 0.0691, 0.8045, 0.0190, 0.1083, 0.8360, 0.7722,\n",
            "        0.8321, 0.3790, 0.1507, 0.5264, 0.1123, 0.0492, 0.8165, 0.7560, 0.0529,\n",
            "        0.0746, 0.9857, 0.2800, 0.9848, 0.9838, 0.0227, 0.0786, 0.6495, 0.9559,\n",
            "        0.9378, 0.0184, 0.9870, 0.7669, 0.2493, 0.9855, 0.4478, 0.9833, 0.2616,\n",
            "        0.9821, 0.8155], grad_fn=<SigmoidBackward0>)\n",
            "Pred labels:tensor([1., 0., 1., 0., 1., 1., 0., 1., 1., 0., 0., 1., 1., 1., 0., 1., 1., 0.,\n",
            "        1., 0., 0., 0., 1., 0., 0., 1., 0., 0., 0., 1., 1., 0., 0., 1., 0., 1.,\n",
            "        1., 1., 1., 1., 1., 1., 1., 0., 0., 1., 0., 0., 1., 1., 0., 0., 0., 0.,\n",
            "        0., 0., 0., 1., 1., 0., 1., 1., 0., 1., 1., 1., 1., 0., 0., 0., 1., 0.,\n",
            "        0., 1., 0., 1., 1., 0., 0., 1., 0., 1., 1., 1., 1., 1., 0., 0., 0., 0.,\n",
            "        1., 1., 1., 1., 1., 0., 1., 1., 0., 1., 0., 0., 1., 0., 0., 0., 1., 0.,\n",
            "        0., 1., 1., 1., 0., 1., 1., 0., 1., 0., 1., 0., 1., 0., 0., 1., 1., 0.,\n",
            "        1., 1., 0., 1., 1., 0., 1., 0., 0., 1., 1., 0., 0., 1., 0., 0., 0., 1.,\n",
            "        0., 0., 0., 0., 1., 0., 1., 0., 1., 0., 1., 1., 1., 0., 0., 1., 0., 1.,\n",
            "        1., 0., 1., 0., 1., 0., 0., 1., 1., 1., 0., 0., 1., 0., 0., 1., 1., 0.,\n",
            "        0., 1., 0., 1., 1., 0., 0., 1., 1., 1., 0., 1., 1., 0., 1., 0., 1., 0.,\n",
            "        1., 1.], grad_fn=<RoundBackward0>)\n"
          ]
        }
      ]
    },
    {
      "cell_type": "code",
      "source": [
        "# Let's calculuate the accuracy using accuracy from TorchMetrics\n",
        "!pip -q install torchmetrics # Colab doesn't come with torchmetrics\n",
        "from torchmetrics import Accuracy\n",
        "\n",
        "## TODO: Uncomment this code to use the Accuracy function\n",
        "acc_fn = Accuracy(task=\"binary\" ).to(device) # send accuracy function to device\n",
        "acc_fn"
      ],
      "metadata": {
        "id": "rUSDNHB4euoJ",
        "colab": {
          "base_uri": "https://localhost:8080/"
        },
        "outputId": "91fa1b31-a9a2-473c-dcaf-b20079a8466a"
      },
      "execution_count": 14,
      "outputs": [
        {
          "output_type": "execute_result",
          "data": {
            "text/plain": [
              "BinaryAccuracy()"
            ]
          },
          "metadata": {},
          "execution_count": 14
        }
      ]
    },
    {
      "cell_type": "code",
      "source": [
        "## TODO: Uncomment this to set the seed\n",
        "# torch.manual_seed(42)\n",
        "\n",
        "# Setup epochs\n",
        "epoches = 1000\n",
        "train_loss_list = []\n",
        "test_loss_list = []\n",
        "\n",
        "# Create a training loop\n",
        "for epoch in range(epoches):\n",
        "\n",
        "# Send data to the device\n",
        "\n",
        "\n",
        "# Loop through the data\n",
        "# for epoch in range(epochs):\n",
        "  ### Training\n",
        "  model_01.train()\n",
        "\n",
        "  # 1. Forward pass (logits output)\n",
        "  train_logit = model_01(x_train).squeeze()\n",
        "\n",
        "\n",
        "  # Turn logits into prediction probabilities\n",
        "  train_pred_prob = sigmoid_fn(train_logit)\n",
        "\n",
        "  # Turn prediction probabilities into prediction labels\n",
        "  train_pred_label = torch.round(train_pred_prob)\n",
        "\n",
        "  # 2. Calculaute the loss\n",
        "  # loss = loss_fn(y_logits, y_train) # loss = compare model raw outputs to desired model outputs\n",
        "  train_loss = loss_fn(train_pred_prob , y_train)\n",
        "  # Calculate the accuracy\n",
        "  # acc = acc_fn(y_pred, y_train.int()) # the accuracy function needs to compare pred labels (not logits) with actual labels\n",
        "  train_acc = acc_fn(train_pred_label , y_train.int())\n",
        "  # 3. Zero the gradients\n",
        "  optimizer.zero_grad()\n",
        "\n",
        "  # 4. Loss backward (perform backpropagation) - https://brilliant.org/wiki/backpropagation/#:~:text=Backpropagation%2C%20short%20for%20%22backward%20propagation,to%20the%20neural%20network's%20weights.\n",
        "  train_loss.backward()\n",
        "  # 5. Step the optimizer (gradient descent) - https://towardsdatascience.com/gradient-descent-algorithm-a-deep-dive-cf04e8115f21#:~:text=Gradient%20descent%20(GD)%20is%20an,e.g.%20in%20a%20linear%20regression)\n",
        "  optimizer.step()\n",
        "  train_loss_list.append(train_loss.item())\n",
        "\n",
        "\n",
        "\n",
        "  ### Testing\n",
        "  model_01.eval()\n",
        "  # with torch.inference_mode():\n",
        "    # 1. Forward pass (to get the logits)\n",
        "  with torch.inference_mode():\n",
        "    test_logit = model_01(x_test).squeeze()\n",
        "    # Turn the test logits into prediction labels\n",
        "    test_pred_prob = sigmoid_fn(test_logit)\n",
        "    test_pred_label = torch.round(test_pred_prob)\n",
        "\n",
        "    # 2. Caculate the test loss/acc\n",
        "    test_loss = loss_fn(test_pred_prob , y_test)\n",
        "    test_acc = acc_fn(test_pred_label , y_test.int())\n",
        "    test_loss_list.append(test_loss.item())\n",
        "\n",
        "  # Print out what's happening every 100 epochs\n",
        "  if epoch % 100 == 0:\n",
        "    print (f\"epoch {epoch}, train/test Loss {train_loss.item()} / {test_loss.item()} , train/Test Accuracy: {train_acc.item()} / {test_acc.item()}\")\n",
        ""
      ],
      "metadata": {
        "id": "SHBY3h7XXnxt",
        "colab": {
          "base_uri": "https://localhost:8080/"
        },
        "outputId": "d4afd96f-0f35-4aa0-df61-878edc4e33ca"
      },
      "execution_count": 15,
      "outputs": [
        {
          "output_type": "stream",
          "name": "stdout",
          "text": [
            "epoch 0, train/test Loss 0.19870984554290771 / 0.160182386636734 , train/Test Accuracy: 0.9100000262260437 / 0.9200000166893005\n",
            "epoch 100, train/test Loss 0.00012493086978793144 / 0.00012610522389877588 , train/Test Accuracy: 1.0 / 1.0\n",
            "epoch 200, train/test Loss 5.9383935877121985e-05 / 6.0970276535954326e-05 , train/Test Accuracy: 1.0 / 1.0\n",
            "epoch 300, train/test Loss 3.4808799682650715e-05 / 3.5972348996438086e-05 , train/Test Accuracy: 1.0 / 1.0\n",
            "epoch 400, train/test Loss 2.2714468286721967e-05 / 2.3529930331278592e-05 , train/Test Accuracy: 1.0 / 1.0\n",
            "epoch 500, train/test Loss 1.575072019477375e-05 / 1.6434802091680467e-05 , train/Test Accuracy: 1.0 / 1.0\n",
            "epoch 600, train/test Loss 1.1369192179699894e-05 / 1.1877801625814755e-05 , train/Test Accuracy: 1.0 / 1.0\n",
            "epoch 700, train/test Loss 8.142660590237938e-06 / 8.492072083754465e-06 , train/Test Accuracy: 1.0 / 1.0\n",
            "epoch 800, train/test Loss 6.0410111473174766e-06 / 6.288658369157929e-06 , train/Test Accuracy: 1.0 / 1.0\n",
            "epoch 900, train/test Loss 4.612745215126779e-06 / 4.789359081769362e-06 , train/Test Accuracy: 1.0 / 1.0\n"
          ]
        }
      ]
    },
    {
      "cell_type": "markdown",
      "source": [
        "## 5. Make predictions with your trained model and plot them using the `plot_decision_boundary()` function created in this notebook."
      ],
      "metadata": {
        "id": "8Nwihtomj9JO"
      }
    },
    {
      "cell_type": "code",
      "source": [
        "# Plot the model predictions\n",
        "import numpy as np\n",
        "\n",
        "def plot_decision_boundary(model, X, y):\n",
        "\n",
        "    # Put everything to CPU (works better with NumPy + Matplotlib)\n",
        "    model.to(\"cpu\")\n",
        "    X, y = X.to(\"cpu\"), y.to(\"cpu\")\n",
        "\n",
        "    # Source - https://madewithml.com/courses/foundations/neural-networks/\n",
        "    # (with modifications)\n",
        "    x_min, x_max = X[:, 0].min() - 0.1, X[:, 0].max() + 0.1\n",
        "    y_min, y_max = X[:, 1].min() - 0.1, X[:, 1].max() + 0.1\n",
        "    xx, yy = np.meshgrid(np.linspace(x_min, x_max, 101),\n",
        "                         np.linspace(y_min, y_max, 101))\n",
        "\n",
        "    # Make features\n",
        "    X_to_pred_on = torch.from_numpy(np.column_stack((xx.ravel(), yy.ravel()))).float()\n",
        "\n",
        "    # Make predictions\n",
        "    model.eval()\n",
        "    with torch.inference_mode():\n",
        "        y_logits = model(X_to_pred_on)\n",
        "\n",
        "    # Test for multi-class or binary and adjust logits to prediction labels\n",
        "    if len(torch.unique(y)) > 2:\n",
        "        y_pred = torch.softmax(y_logits, dim=1).argmax(dim=1) # mutli-class\n",
        "    else:\n",
        "        y_pred = torch.round(torch.sigmoid(y_logits)) # binary\n",
        "\n",
        "    # Reshape preds and plot\n",
        "    y_pred = y_pred.reshape(xx.shape).detach().numpy()\n",
        "    plt.contourf(xx, yy, y_pred, cmap=plt.cm.RdYlBu, alpha=0.7)\n",
        "    plt.scatter(X[:, 0], X[:, 1], c=y, s=40, cmap=plt.cm.RdYlBu)\n",
        "    plt.xlim(xx.min(), xx.max())\n",
        "    plt.ylim(yy.min(), yy.max())"
      ],
      "metadata": {
        "id": "0YRzatb8a1P2"
      },
      "execution_count": 17,
      "outputs": []
    },
    {
      "cell_type": "code",
      "source": [
        "# Plot decision boundaries for training and test sets\n",
        "plot_decision_boundary(model=model_01, X=x_data, y = y_data)"
      ],
      "metadata": {
        "id": "PMrcpyirig1d",
        "colab": {
          "base_uri": "https://localhost:8080/",
          "height": 430
        },
        "outputId": "034d1009-db0d-4c34-bb8e-fad40978636b"
      },
      "execution_count": 18,
      "outputs": [
        {
          "output_type": "display_data",
          "data": {
            "text/plain": [
              "<Figure size 640x480 with 1 Axes>"
            ],
            "image/png": "[encoded data removed]"
          },
          "metadata": {}
        }
      ]
    },
    {
      "cell_type": "markdown",
      "source": [
        "## 6. Replicate the Tanh (hyperbolic tangent) activation function in pure PyTorch.\n",
        "  * Feel free to reference the [ML cheatsheet website](https://ml-cheatsheet.readthedocs.io/en/latest/activation_functions.html#tanh) for the formula."
      ],
      "metadata": {
        "id": "EtMYBvtciiAU"
      }
    },
    {
      "cell_type": "code",
      "source": [
        "# Create a straight line tensor\n",
        "line_data = torch.linspace(-10, 10, 100)\n",
        "line_data"
      ],
      "metadata": {
        "id": "BlXaWC5TkEUE",
        "colab": {
          "base_uri": "https://localhost:8080/"
        },
        "outputId": "e3606e36-7061-482f-d901-02225afcc48a"
      },
      "execution_count": 22,
      "outputs": [
        {
          "output_type": "execute_result",
          "data": {
            "text/plain": [
              "tensor([-10.0000,  -9.7980,  -9.5960,  -9.3939,  -9.1919,  -8.9899,  -8.7879,\n",
              "         -8.5859,  -8.3838,  -8.1818,  -7.9798,  -7.7778,  -7.5758,  -7.3737,\n",
              "         -7.1717,  -6.9697,  -6.7677,  -6.5657,  -6.3636,  -6.1616,  -5.9596,\n",
              "         -5.7576,  -5.5556,  -5.3535,  -5.1515,  -4.9495,  -4.7475,  -4.5455,\n",
              "         -4.3434,  -4.1414,  -3.9394,  -3.7374,  -3.5354,  -3.3333,  -3.1313,\n",
              "         -2.9293,  -2.7273,  -2.5253,  -2.3232,  -2.1212,  -1.9192,  -1.7172,\n",
              "         -1.5152,  -1.3131,  -1.1111,  -0.9091,  -0.7071,  -0.5051,  -0.3030,\n",
              "         -0.1010,   0.1010,   0.3030,   0.5051,   0.7071,   0.9091,   1.1111,\n",
              "          1.3131,   1.5152,   1.7172,   1.9192,   2.1212,   2.3232,   2.5253,\n",
              "          2.7273,   2.9293,   3.1313,   3.3333,   3.5354,   3.7374,   3.9394,\n",
              "          4.1414,   4.3434,   4.5455,   4.7475,   4.9495,   5.1515,   5.3535,\n",
              "          5.5556,   5.7576,   5.9596,   6.1616,   6.3636,   6.5657,   6.7677,\n",
              "          6.9697,   7.1717,   7.3737,   7.5758,   7.7778,   7.9798,   8.1818,\n",
              "          8.3838,   8.5859,   8.7879,   8.9899,   9.1919,   9.3939,   9.5960,\n",
              "          9.7980,  10.0000])"
            ]
          },
          "metadata": {},
          "execution_count": 22
        }
      ]
    },
    {
      "cell_type": "code",
      "source": [
        "# Test torch.tanh() on the tensor and plot it\n",
        "tanh  = nn.Tanh()\n",
        "tanh_tensor  = tanh(line_data)\n",
        "\n",
        "plt.plot(line_data, tanh_tensor, c='r')"
      ],
      "metadata": {
        "id": "vZPCcQmIkZjO",
        "colab": {
          "base_uri": "https://localhost:8080/",
          "height": 447
        },
        "outputId": "bbef2e3c-3348-4677-c81c-f184976ef2f3"
      },
      "execution_count": 25,
      "outputs": [
        {
          "output_type": "execute_result",
          "data": {
            "text/plain": [
              "[<matplotlib.lines.Line2D at 0x784ac654e710>]"
            ]
          },
          "metadata": {},
          "execution_count": 25
        },
        {
          "output_type": "display_data",
          "data": {
            "text/plain": [
              "<Figure size 640x480 with 1 Axes>"
            ],
            "image/png": "[encoded data removed]"
          },
          "metadata": {}
        }
      ]
    },
    {
      "cell_type": "code",
      "source": [
        "# Replicate torch.tanh() and plot it\n",
        "tanh_formula = (torch.exp(line_data) - torch.exp(-line_data)) / (torch.exp(line_data) + torch.exp(-line_data))\n",
        "plt.plot(line_data, tanh_formula, c='r')"
      ],
      "metadata": {
        "id": "J-ne__Kjkdc1",
        "colab": {
          "base_uri": "https://localhost:8080/",
          "height": 447
        },
        "outputId": "012404cb-a584-4923-fe3c-e2637a48d0af"
      },
      "execution_count": 26,
      "outputs": [
        {
          "output_type": "execute_result",
          "data": {
            "text/plain": [
              "[<matplotlib.lines.Line2D at 0x784ac6497bd0>]"
            ]
          },
          "metadata": {},
          "execution_count": 26
        },
        {
          "output_type": "display_data",
          "data": {
            "text/plain": [
              "<Figure size 640x480 with 1 Axes>"
            ],
            "image/png": "[encoded data removed]"
          },
          "metadata": {}
        }
      ]
    },
    {
      "cell_type": "markdown",
      "source": [
        "## 7. Create a multi-class dataset using the [spirals data creation function from CS231n](https://cs231n.github.io/neural-networks-case-study/) (see below for the code).\n",
        "  * Split the data into training and test sets (80% train, 20% test) as well as turn it into PyTorch tensors.\n",
        "  * Construct a model capable of fitting the data (you may need a combination of linear and non-linear layers).\n",
        "  * Build a loss function and optimizer capable of handling multi-class data (optional extension: use the Adam optimizer instead of SGD, you may have to experiment with different values of the learning rate to get it working).\n",
        "  * Make a training and testing loop for the multi-class data and train a model on it to reach over 95% testing accuracy (you can use any accuracy measuring function here that you like) - 1000 epochs should be plenty.\n",
        "  * Plot the decision boundaries on the spirals dataset from your model predictions, the `plot_decision_boundary()` function should work for this dataset too."
      ],
      "metadata": {
        "id": "Lbt1bNcWk5G9"
      }
    },
    {
      "cell_type": "code",
      "source": [
        "# Code for creating a spiral dataset from CS231n\n",
        "import numpy as np\n",
        "import matplotlib.pyplot as plt\n",
        "RANDOM_SEED = 42\n",
        "np.random.seed(RANDOM_SEED)\n",
        "N = 100 # number of points per class\n",
        "D = 2 # dimensionality\n",
        "K = 3 # number of classes\n",
        "X = np.zeros((N*K,D)) # data matrix (each row = single example)\n",
        "y = np.zeros(N*K, dtype='uint8') # class labels\n",
        "for j in range(K):\n",
        "  ix = range(N*j,N*(j+1))\n",
        "  r = np.linspace(0.0,1,N) # radius\n",
        "  t = np.linspace(j*4,(j+1)*4,N) + np.random.randn(N)*0.2 # theta\n",
        "  X[ix] = np.c_[r*np.sin(t), r*np.cos(t)]\n",
        "  y[ix] = j\n",
        "# lets visualize the data\n",
        "plt.scatter(X[:, 0], X[:, 1], c=y, s=40, cmap=plt.cm.RdYlBu)\n",
        "plt.show()"
      ],
      "metadata": {
        "id": "tU-UNZsKlJls"
      },
      "execution_count": null,
      "outputs": []
    },
    {
      "cell_type": "code",
      "source": [
        "# Turn data into tensors\n",
        "import torch\n",
        "X = torch.from_numpy(X).type(torch.float) # features as float32\n",
        "y = torch.from_numpy(y).type(torch.LongTensor) # labels need to be of type long\n",
        "\n",
        "# Create train and test splits\n",
        "from sklearn.model_selection import train_test_split\n"
      ],
      "metadata": {
        "id": "OWVrmkEyl0VP"
      },
      "execution_count": null,
      "outputs": []
    },
    {
      "cell_type": "code",
      "source": [
        "# Let's calculuate the accuracy for when we fit our model\n",
        "!pip -q install torchmetrics # colab doesn't come with torchmetrics\n",
        "from torchmetrics import Accuracy\n",
        "\n",
        "## TODO: uncomment the two lines below to send the accuracy function to the device\n",
        "# acc_fn = Accuracy(task=\"multiclass\", num_classes=4).to(device)\n",
        "# acc_fn"
      ],
      "metadata": {
        "id": "a-v-7f0op0tG"
      },
      "execution_count": null,
      "outputs": []
    },
    {
      "cell_type": "code",
      "source": [
        "# Prepare device agnostic code\n",
        "# device = \"cuda\" if torch.cuda.is_available() else \"cpu\"\n",
        "\n",
        "# Create model by subclassing nn.Module\n",
        "\n",
        "\n",
        "\n",
        "# Instantiate model and send it to device\n"
      ],
      "metadata": {
        "id": "DB3u3ldumapf"
      },
      "execution_count": null,
      "outputs": []
    },
    {
      "cell_type": "code",
      "source": [
        "# Setup data to be device agnostic\n",
        "\n",
        "\n",
        "# Print out first 10 untrained model outputs (forward pass)\n",
        "print(\"Logits:\")\n",
        "## Your code here ##\n",
        "\n",
        "print(\"Pred probs:\")\n",
        "## Your code here ##\n",
        "\n",
        "print(\"Pred labels:\")\n",
        "## Your code here ##"
      ],
      "metadata": {
        "id": "QE7XWSSunMTS"
      },
      "execution_count": null,
      "outputs": []
    },
    {
      "cell_type": "code",
      "source": [
        "# Setup loss function and optimizer\n",
        "# loss_fn =\n",
        "# optimizer ="
      ],
      "metadata": {
        "id": "54EqLRKLo0AW"
      },
      "execution_count": null,
      "outputs": []
    },
    {
      "cell_type": "code",
      "source": [
        "# Build a training loop for the model\n",
        "\n",
        "# Loop over data\n",
        "\n",
        "\n",
        "  ## Training\n",
        "\n",
        "  # 1. Forward pass\n",
        "\n",
        "\n",
        "  # 2. Calculate the loss\n",
        "\n",
        "\n",
        "  # 3. Optimizer zero grad\n",
        "\n",
        "\n",
        "  # 4. Loss backward\n",
        "\n",
        "\n",
        "  # 5. Optimizer step\n",
        "\n",
        "\n",
        "  ## Testing\n",
        "\n",
        "\n",
        "    # 1. Forward pass\n",
        "\n",
        "    # 2. Caculate loss and acc\n",
        "\n",
        "  # Print out what's happening every 100 epochs\n",
        ""
      ],
      "metadata": {
        "id": "vIlExkUHnmxi"
      },
      "execution_count": null,
      "outputs": []
    },
    {
      "cell_type": "code",
      "source": [
        "# Plot decision boundaries for training and test sets\n"
      ],
      "metadata": {
        "id": "JrwVRbaE0keT"
      },
      "execution_count": null,
      "outputs": []
    }
  ]
}
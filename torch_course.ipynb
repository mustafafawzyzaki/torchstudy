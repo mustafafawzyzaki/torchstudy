{
 "cells": [
  {
   "cell_type": "code",
   "execution_count": 16,
   "metadata": {},
   "outputs": [
    {
     "name": "stdout",
     "output_type": "stream",
     "text": [
      " shape :torch.Size([224, 224, 3]) ,  dimension :3 , data type :torch.float32 , device :cpu\n",
      "torch.Size([2, 3])\n"
     ]
    },
    {
     "data": {
      "text/plain": [
       "torch.Size([224, 224, 3])"
      ]
     },
     "execution_count": 16,
     "metadata": {},
     "output_type": "execute_result"
    }
   ],
   "source": [
    "import torch \n",
    "\n",
    "scalare = torch.tensor(1)\n",
    "vector = torch.tensor([1,2,3])\n",
    "matrix = torch.tensor([[1,2,3],[4,5,6]])\n",
    "random = torch.rand(size=(224,224,3) , dtype=torch.float32, device='cpu', requires_grad=False) \n",
    "\n",
    "# random\n",
    "print(f\" shape :{random.shape} ,  dimension :{random.ndim} , data type :{random.dtype} , device :{random.device}\")\n",
    "print (matrix.size())\n",
    "random.shape"
   ]
  },
  {
   "cell_type": "code",
   "execution_count": 17,
   "metadata": {},
   "outputs": [
    {
     "name": "stdout",
     "output_type": "stream",
     "text": [
      "tensor([[[0.1324, 0.4798, 0.5614],\n",
      "         [0.5445, 0.9543, 0.3957],\n",
      "         [0.1701, 0.9521, 0.7006],\n",
      "         ...,\n",
      "         [0.8736, 0.9802, 0.6357],\n",
      "         [0.8413, 0.1805, 0.9821],\n",
      "         [0.4527, 0.2354, 0.9064]],\n",
      "\n",
      "        [[0.3701, 0.4834, 0.2955],\n",
      "         [0.8915, 0.4875, 0.4444],\n",
      "         [0.6126, 0.1406, 0.4936],\n",
      "         ...,\n",
      "         [0.2065, 0.2551, 0.0877],\n",
      "         [0.1870, 0.0304, 0.1453],\n",
      "         [0.9095, 0.8764, 0.8310]],\n",
      "\n",
      "        [[0.9654, 0.4324, 0.5073],\n",
      "         [0.0356, 0.8234, 0.4504],\n",
      "         [0.2102, 0.0454, 0.7959],\n",
      "         ...,\n",
      "         [0.1923, 0.8226, 0.6671],\n",
      "         [0.2021, 0.2711, 0.5257],\n",
      "         [0.4329, 0.9729, 0.9233]],\n",
      "\n",
      "        ...,\n",
      "\n",
      "        [[0.0123, 0.5188, 0.7688],\n",
      "         [0.1579, 0.3926, 0.4783],\n",
      "         [0.3319, 0.0101, 0.2164],\n",
      "         ...,\n",
      "         [0.5609, 0.4835, 0.6875],\n",
      "         [0.6685, 0.7778, 0.4875],\n",
      "         [0.0063, 0.4279, 0.0583]],\n",
      "\n",
      "        [[0.7516, 0.2201, 0.3597],\n",
      "         [0.5847, 0.6670, 0.8331],\n",
      "         [0.2529, 0.5425, 0.7294],\n",
      "         ...,\n",
      "         [0.3703, 0.5768, 0.2876],\n",
      "         [0.6136, 0.7714, 0.5225],\n",
      "         [0.1533, 0.8421, 0.0405]],\n",
      "\n",
      "        [[0.5431, 0.6430, 0.3493],\n",
      "         [0.2834, 0.3557, 0.8495],\n",
      "         [0.8105, 0.0997, 0.5565],\n",
      "         ...,\n",
      "         [0.6791, 0.4995, 0.4042],\n",
      "         [0.4467, 0.7285, 0.3493],\n",
      "         [0.3644, 0.9455, 0.6383]]])\n"
     ]
    }
   ],
   "source": [
    "reshaped_random = random.reshape(224,224,3)\n",
    "print(reshaped_random)"
   ]
  }
 ],
 "metadata": {
  "kernelspec": {
   "display_name": "Python 3 (ipykernel)",
   "language": "python",
   "name": "python3"
  },
  "language_info": {
   "codemirror_mode": {
    "name": "ipython",
    "version": 3
   },
   "file_extension": ".py",
   "mimetype": "text/x-python",
   "name": "python",
   "nbconvert_exporter": "python",
   "pygments_lexer": "ipython3",
   "version": "3.12.4"
  }
 },
 "nbformat": 4,
 "nbformat_minor": 2
}

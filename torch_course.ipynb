{
 "cells": [
  {
   "cell_type": "code",
   "execution_count": 2,
   "metadata": {},
   "outputs": [
    {
     "name": "stdout",
     "output_type": "stream",
     "text": [
      " shape :torch.Size([224, 224, 3]) ,  dimension :3 , data type :torch.float32 , device :cpu\n",
      "torch.Size([2, 3])\n"
     ]
    }
   ],
   "source": [
    "import torch \n",
    "\n",
    "scalare = torch.tensor(1)\n",
    "vector = torch.tensor([1,2,3])\n",
    "matrix = torch.tensor([[1,2,3],[4,5,6]])\n",
    "random = torch.rand(size=(224,224,3) , dtype=torch.float32, device='cpu', requires_grad=True) \n",
    "\n",
    "# random\n",
    "print(f\" shape :{random.shape} ,  dimension :{random.ndim} , data type :{random.dtype} , device :{random.device}\")\n",
    "print (matrix.size())\n"
   ]
  }
 ],
 "metadata": {
  "kernelspec": {
   "display_name": "Python 3 (ipykernel)",
   "language": "python",
   "name": "python3"
  },
  "language_info": {
   "codemirror_mode": {
    "name": "ipython",
    "version": 3
   },
   "file_extension": ".py",
   "mimetype": "text/x-python",
   "name": "python",
   "nbconvert_exporter": "python",
   "pygments_lexer": "ipython3",
   "version": "3.12.4"
  }
 },
 "nbformat": 4,
 "nbformat_minor": 2
}

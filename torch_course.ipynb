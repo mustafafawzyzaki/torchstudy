{
 "cells": [
  {
   "cell_type": "code",
   "execution_count": 11,
   "metadata": {},
   "outputs": [
    {
     "name": "stdout",
     "output_type": "stream",
     "text": [
      " shape :torch.Size([224, 224, 3]) ,  dimension :3 , data type :torch.float32 , device :cpu\n",
      "torch.Size([2, 3])\n"
     ]
    },
    {
     "data": {
      "text/plain": [
       "torch.Size([224, 224, 3])"
      ]
     },
     "execution_count": 11,
     "metadata": {},
     "output_type": "execute_result"
    }
   ],
   "source": [
    "import torch \n",
    "\n",
    "scalare = torch.tensor(1)\n",
    "vector = torch.tensor([1,2,3])\n",
    "matrix = torch.tensor([[1,2,3],[4,5,6]])\n",
    "random = torch.rand(size=(224,224,3) , dtype=torch.float32, device='cpu', requires_grad=True) \n",
    "\n",
    "# random\n",
    "print(f\" shape :{random.shape} ,  dimension :{random.ndim} , data type :{random.dtype} , device :{random.device}\")\n",
    "print (matrix.size())\n",
    "random.shape"
   ]
  },
  {
   "cell_type": "code",
   "execution_count": 15,
   "metadata": {},
   "outputs": [
    {
     "name": "stdout",
     "output_type": "stream",
     "text": [
      "tensor([[[0.3753, 0.7149, 0.4286],\n",
      "         [0.8006, 0.0248, 0.1687],\n",
      "         [0.3378, 0.5820, 0.2324],\n",
      "         ...,\n",
      "         [0.6063, 0.5567, 0.6106],\n",
      "         [0.1846, 0.4037, 0.8981],\n",
      "         [0.4811, 0.0818, 0.2065]],\n",
      "\n",
      "        [[0.9299, 0.6757, 0.2400],\n",
      "         [0.4145, 0.2571, 0.2343],\n",
      "         [0.6623, 0.4425, 0.9219],\n",
      "         ...,\n",
      "         [0.8076, 0.9147, 0.0743],\n",
      "         [0.8038, 0.1866, 0.0628],\n",
      "         [0.1982, 0.1458, 0.7310]],\n",
      "\n",
      "        [[0.6995, 0.4803, 0.7757],\n",
      "         [0.2427, 0.9207, 0.6175],\n",
      "         [0.1284, 0.3741, 0.9738],\n",
      "         ...,\n",
      "         [0.6440, 0.3442, 0.9532],\n",
      "         [0.4612, 0.6616, 0.2698],\n",
      "         [0.1530, 0.5034, 0.4085]],\n",
      "\n",
      "        ...,\n",
      "\n",
      "        [[0.2807, 0.0653, 0.1088],\n",
      "         [0.4159, 0.2689, 0.9386],\n",
      "         [0.4586, 0.7235, 0.5097],\n",
      "         ...,\n",
      "         [0.6471, 0.4189, 0.7982],\n",
      "         [0.4922, 0.4739, 0.2249],\n",
      "         [0.3820, 0.9372, 0.6331]],\n",
      "\n",
      "        [[0.2904, 0.4503, 0.8414],\n",
      "         [0.9284, 0.9807, 0.8382],\n",
      "         [0.0211, 0.2237, 0.7723],\n",
      "         ...,\n",
      "         [0.0417, 0.1517, 0.6940],\n",
      "         [0.3553, 0.6157, 0.1358],\n",
      "         [0.2902, 0.4852, 0.6253]],\n",
      "\n",
      "        [[0.7733, 0.4693, 0.9644],\n",
      "         [0.4931, 0.9223, 0.7713],\n",
      "         [0.0500, 0.1984, 0.1287],\n",
      "         ...,\n",
      "         [0.5337, 0.5560, 0.9383],\n",
      "         [0.5785, 0.3125, 0.2232],\n",
      "         [0.2272, 0.9646, 0.9294]]], grad_fn=<ViewBackward0>)\n"
     ]
    }
   ],
   "source": [
    "reshaped_random = random.reshape(224,224,3)\n",
    "print(reshaped_random)"
   ]
  }
 ],
 "metadata": {
  "kernelspec": {
   "display_name": "Python 3 (ipykernel)",
   "language": "python",
   "name": "python3"
  },
  "language_info": {
   "codemirror_mode": {
    "name": "ipython",
    "version": 3
   },
   "file_extension": ".py",
   "mimetype": "text/x-python",
   "name": "python",
   "nbconvert_exporter": "python",
   "pygments_lexer": "ipython3",
   "version": "3.12.4"
  }
 },
 "nbformat": 4,
 "nbformat_minor": 2
}
